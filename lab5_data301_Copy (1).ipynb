{
  "cells": [
    {
      "cell_type": "markdown",
      "metadata": {
        "id": "iu07z2uBmdGh"
      },
      "source": [
        "# **Lab 5: Python Databases, CSV Files and Map-Reduce**\n",
        "\n",
        "In this lab, we will use Python for data processing using SQL databases. files and Map-Reduce.\n",
        "\n",
        "Work **must** be done in your Colab notebook.  **Before you start working on your solution, save a copy to your Google Drive (as the original is read-only)**.   Answer question 1 and 2 directly in the notebook where indicated.  As you are working on the file, make sure to save as you  go.  When you are complete, save your notebook, download it and submit it via Canvas (You can download your notebook from the file menu ** File -> Download -> Download .ipynb **).  \n",
        "\n",
        "With the Colab notebook, you can write and run your Python code directly in the bookbook.  To run your code, click on the play button and the left hand side of your code.   The output willl appear immediately below your code."
      ]
    },
    {
      "cell_type": "code",
      "execution_count": 14,
      "metadata": {
        "id": "7judiUKifGEx",
        "colab": {
          "base_uri": "https://localhost:8080/"
        },
        "outputId": "9bd1e71b-281f-4f1b-9e3e-9ad6938644b6"
      },
      "outputs": [
        {
          "output_type": "stream",
          "name": "stdout",
          "text": [
            "Hello!  My Python code runs!\n"
          ]
        }
      ],
      "source": [
        "#This is a Python Comment\n",
        "#Click the play button (on the left hand side of the code block) to run this code.\n",
        "print(\"Hello!  My Python code runs!\")"
      ]
    },
    {
      "cell_type": "markdown",
      "metadata": {
        "id": "ENljO-tq-P2I"
      },
      "source": [
        "**Importing a library that is not in Colaboratory**\n",
        "\n",
        "When working with Python in Colab, you may find that a library in not available when you run yuor code.  In this case, you will need to import the library.  For this lab, you will need to install *mysql-python-connector*.  To import a library that's not in Colaboratory by default, you can use `!pip install` or `!apt-get install`.\n",
        "\n",
        "Running this block is required anytime you connect/restart/reconnect to an instance. To run a code block, mouse over it and click the play button on left side.\n",
        "\n",
        "You should see some output when you click the play button. Wait until the code block is finished running (this is indicated when the stop button goes away). The last couple lines of output should look something like the following:\n",
        "\n",
        "```\n",
        "Collecting mysql-connector-python\n",
        "  Downloading mysql_connector_python-8.0.28-cp37-cp37m-manylinux1_x86_64.whl (37.6 MB)\n",
        "     |████████████████████████████████| 37.6 MB 1.7 MB/s\n",
        "Requirement already satisfied: protobuf>=3.0.0 in /usr/local/lib/python3.7/dist-packages (from mysql-connector-python) (3.17.3)\n",
        "Requirement already satisfied: six>=1.9 in /usr/local/lib/python3.7/dist-packages (from protobuf>=3.0.0->mysql-connector-python) (1.15.0)\n",
        "Installing collected packages: mysql-connector-python\n",
        "Successfully installed mysql-connector-python-8.0.28\n",
        "```\n"
      ]
    },
    {
      "cell_type": "code",
      "execution_count": 15,
      "metadata": {
        "colab": {
          "base_uri": "https://localhost:8080/"
        },
        "id": "pxoXQSIxS8Lz",
        "outputId": "8d5da34d-4864-4ac7-d023-6b8c9868d361"
      },
      "outputs": [
        {
          "output_type": "stream",
          "name": "stdout",
          "text": [
            "Requirement already satisfied: mysql-connector-python in /usr/local/lib/python3.10/dist-packages (9.1.0)\n"
          ]
        }
      ],
      "source": [
        "#Make sure to run this\n",
        "!pip install mysql-connector-python"
      ]
    },
    {
      "cell_type": "markdown",
      "metadata": {
        "id": "_yEVNKLOfAng"
      },
      "source": [
        "# **Objectives**\n",
        "\n",
        " * Use Python to connect to a MySQL relational database and execute SQL queries.\n",
        " * Output data to a CSV file.\n",
        " * Write a small Map-Reduce program for data analysis."
      ]
    },
    {
      "cell_type": "markdown",
      "metadata": {
        "id": "D0FtaYWNnc4N"
      },
      "source": [
        "**Question #1 - Database Querying (3 marks)**\n",
        "\n",
        "Write a Python program to query a MySQL database and print the query results.\n",
        "\n",
        "**Details:**\n",
        "*    Put a comment at the top of the question 1 Python notebook codeblock with your name and student number.\n",
        "*    Make a connection to the MySQL database with this connection information:\n",
        "```\n",
        " cnx = mysql.connector.connect(user='301', password='test', host='159.203.45.66', database='workson')\n",
        "```\n",
        "*    Write and execute a SQL query that returns the department number (dno), department name (dname), project number (pno), project name (pname), sum of hours worked on the project as well as the number of employees working on the project. Only include records where the budget is less than $200,000. Order by sum of hours worked ascending. (2 marks)\n",
        "*    Print out your query results. Note that tabs (\"\\t\") are used to line up the data in columns nicely. (0.5 mark)\n",
        "*    Output your query results to a csv file called `l6q1.csv`.  The file will need a header (first row) followed the the results in a comma-separated format.  Use the [CSV writer](https://docs.python.org/3/library/csv.html).  Save the CSV file to the same location at your Python notebood (path location: `.`). (0.5 mark)\n",
        "\n",
        "**WorksOn Relational Database Schema**\n",
        "```\n",
        "emp (eno CHAR(5), ename VARCHAR(30), bdate DATE, title CHAR(2),\tsalary DECIMAL(9,2), supereno CHAR(5), dno CHAR(5), PRIMARY KEY (eno))\n",
        "dept (dno CHAR(5), dname VARCHAR(40), mgreno CHAR(5), PRIMARY KEY (dno))                      \n",
        "          -- mgreno is the employee number of the manager of the department (may join with emp)\n",
        "proj (pno CHAR(5), pname VARCHAR(40), budget DECIMAL(9,2), dno  CHAR(5), PRIMARY KEY (pno))   \n",
        "          -- dno is the department that has the project (may join with dept)\n",
        "workson (eno  CHAR(5), pno  CHAR(5), resp VARCHAR(20), hours SMALLINT, PRIMARY KEY (eno,pno))\n",
        "          -- Use eno to join with emp.  Use pno to join with proj.\n",
        "```\n",
        "**Sample Output**\n",
        "```\n",
        "pno\t pname \t\t dno \t dname \t\t hours \t numemp\n",
        "P1 \t Instruments \t D1 \t Management \t 36 \t 2\n",
        "P2 \t DB Develop \t D2 \t Consulting \t 48 \t 3\n",
        "```\n",
        "The contents of the CSV file should be:\n",
        "```\n",
        "pno,pname,dno,dname,hours,numemp\n",
        "P1,Instruments,D1,Management,36,2\n",
        "P2,DB Develop,D2,Consulting,48,3\n",
        "```\n",
        "**Answer Question 1 in the following code block.**"
      ]
    },
    {
      "cell_type": "code",
      "execution_count": 28,
      "metadata": {
        "id": "Ul4oJdZlltkG",
        "colab": {
          "base_uri": "https://localhost:8080/"
        },
        "outputId": "c4b26d34-02b0-42a1-ffd8-06defcb3d4fb"
      },
      "outputs": [
        {
          "output_type": "stream",
          "name": "stdout",
          "text": [
            "pno\t pname\t\t dno\t dname\t\t hours\t numemp\t\n",
            "P1 \t Instruments \t D1 \t Management \t 36 \t 2\n",
            "P2 \t DB Develop \t D2 \t Consulting \t 48 \t 3\n"
          ]
        }
      ],
      "source": [
        "#Answer question 1 here\n",
        "#Name - Bhavya Bhagchandani\n",
        "#Student# - 31715618\n",
        "\n",
        "import mysql.connector\n",
        "import csv\n",
        "\n",
        "try:\n",
        "  cnx = mysql.connector.connect(user='301', password='test', host='159.203.45.66', database='workson')\n",
        "  cursor = cnx.cursor()\n",
        "  query = (\"select proj.pno, proj.pname, dept.dno, dept.dname, sum(workson.hours) as hours, count(workson.eno) as numemp \"+\n",
        "           \"from workson \"+\n",
        "           \"join proj on workson.pno = proj.pno \"+\n",
        "           \"join dept on proj.dno = dept.dno \"+\n",
        "           \"join emp on workson.eno = emp.eno \"+\n",
        "           \"where proj.budget < %s \"+\n",
        "           \"group by proj.pno, proj.pname, dept.dno, dept.dname \"+\n",
        "           \"order by hours asc\")\n",
        "\n",
        "  cursor.execute(query,(200000, ))\n",
        "  print(\"pno\\t\", \"pname\\t\\t\", \"dno\\t\", \"dname\\t\\t\", \"hours\\t\", \"numemp\\t\")\n",
        "\n",
        "  with open('16q1.csv', 'w', newline='') as csvfile:\n",
        "    spamwriter = csv.writer(csvfile, delimiter=' ',\n",
        "                            quotechar='|', quoting=csv.QUOTE_MINIMAL)\n",
        "    spamwriter.writerow([\"pno\", \"pname\", \"dno\", \"dname\", \"hours\", \"numemp\"])\n",
        "    for (pno, pname, dno, dname, hours, numemp) in cursor:\n",
        "      print(pno,\"\\t\", pname,\"\\t\", dno,\"\\t\", dname,\"\\t\", hours,\"\\t\", numemp)\n",
        "      spamwriter.writerow([pno, pname, dno, dname, hours, numemp])\n",
        "  cursor.close()\n",
        "except mysql.connector.Error as err:\n",
        "  print(err)\n",
        "\n",
        "finally:\n",
        "  cnx.close()\n"
      ]
    },
    {
      "cell_type": "markdown",
      "metadata": {
        "id": "4xDhc0ACS8L0"
      },
      "source": [
        "**Question #2 - Database Querying (3 marks)**\n",
        "*    Write and execute a SQL query that returns the manager employee number (mgreno), the amount of projects they manage and the sum of all their project's budgets. Only include records where the manager manages more than one project (2 marks)\n",
        "*    Print out your query results. Note that tabs (\"\\t\") are used to line up the data in columns nicely. (0.5 mark)\n",
        "*    Output your query results to a csv file called `l6q2.csv`.  The file will need a header (first row) followed the the results in a comma-separated format.  Use the [CSV writer](https://docs.python.org/3/library/csv.html).  Save the CSV file to the same location at your Python notebood (path location: `.`). (0.5 mark)"
      ]
    },
    {
      "cell_type": "code",
      "execution_count": 103,
      "metadata": {
        "id": "zuRaU2gkS8L0",
        "colab": {
          "base_uri": "https://localhost:8080/"
        },
        "outputId": "c16def6e-f084-4e78-810d-865cb1a9dfcb"
      },
      "outputs": [
        {
          "output_type": "stream",
          "name": "stdout",
          "text": [
            "mgreno\t numproj\t amount\n",
            "E7 \t 2 \t 445000.00\n"
          ]
        }
      ],
      "source": [
        "#Answer question 2 here\n",
        "#Name - Bhavya Bhagchandani\n",
        "#Student# - 31715618\n",
        "import mysql.connector\n",
        "import csv\n",
        "\n",
        "try:\n",
        "  cnx = mysql.connector.connect(user='301', password='test', host='159.203.45.66', database='workson')\n",
        "  cursor = cnx.cursor()\n",
        "  query = (\"select dept.mgreno, count(proj.pno) as numproj, sum(proj.budget) as amount \"+\n",
        "           \"from workson \"+\n",
        "           \"join proj on workson.pno = proj.pno \"+\n",
        "           \"join dept on proj.dno = dept.dno \"+\n",
        "           \"join emp on emp.eno = workson.eno \"+\n",
        "           \"where workson.resp ='Manager'  \"+\n",
        "           \"group by dept.mgreno \"+\n",
        "           \"having numproj > 1\")\n",
        "\n",
        "  cursor.execute(query)\n",
        "  print(\"mgreno\\t\", \"numproj\\t\", \"amount\")\n",
        "\n",
        "  with open('16q2.csv', 'w', newline='') as csvfile:\n",
        "    spamwriter = csv.writer(csvfile, delimiter=' ',\n",
        "                            quotechar='|', quoting=csv.QUOTE_MINIMAL)\n",
        "    spamwriter.writerow([\"mgreno\", \"numproj\", \"amount\"])\n",
        "    for (mgreno, numproj, amount) in cursor:\n",
        "      print(mgreno,\"\\t\", numproj,\"\\t\", amount)\n",
        "      spamwriter.writerow([mgreno, numproj, amount])\n",
        "  cursor.close()\n",
        "except mysql.connector.Error as err:\n",
        "  print(err)\n",
        "\n",
        "finally:\n",
        "  cnx.close()\n"
      ]
    },
    {
      "cell_type": "markdown",
      "metadata": {
        "id": "3JFqYRkjEvOX"
      },
      "source": [
        "**Question 3 - Map-Reduce (2 marks)**\n",
        "\n",
        "Create a Python program that uses Map-Reduce to analyze a data set. ***You must use map, filter, and reduce functions***. Details:\n",
        " * Put a comment at the top of the question 2 Python codeblock with your name and student number.\n",
        " * Use a data set that consists of the numbers from 1 to 15. (0.5)\n",
        " * Apply a map function to the data set that will divide the value by 2 if it is even or multiply by 4 if it is odd. Print the result after the map function is applied. (0.5 marks)\n",
        " * Apply a filter function that will keep the value if it is between 3 and 30 inclusive. Print the result after the filter function is applied. (0.5 mark)\n",
        " * Apply a reduce function that will miltiply the two values if the first value is greater than the second otherwise it will add them. Print the result after reduce function is applied. (0.5 mark)\n",
        "\n",
        "***Sample Output***\n",
        "```\n",
        "Result after map: [4, 1.0, 12, 2.0, 20, 3.0, 28, 4.0, 36, 5.0, 44, 6.0, 52, 7.0, 60]\n",
        "Result after filter: [4, 12, 20, 3.0, 28, 4.0, 5.0, 6.0, 7.0]\n",
        "Result after reduce: 2540160.0\n",
        "```\n",
        "\n",
        "**Answer Question 3 in the following code block.**"
      ]
    },
    {
      "cell_type": "code",
      "execution_count": 89,
      "metadata": {
        "id": "yY8-tEJRJbd7",
        "colab": {
          "base_uri": "https://localhost:8080/"
        },
        "outputId": "881c839f-34f3-4eb5-fc99-a34b572f3e0d"
      },
      "outputs": [
        {
          "output_type": "stream",
          "name": "stdout",
          "text": [
            "(1, 2, 3, 4, 5, 6, 7, 8, 9, 10, 11, 12, 13, 14, 15)\n",
            "Result after map: [4, 1.0, 12, 2.0, 20, 3.0, 28, 4.0, 36, 5.0, 44, 6.0, 52, 7.0, 60]\n",
            "Result after filter: [4, 12, 20, 3.0, 28, 4.0, 5.0, 6.0, 7.0]\n",
            "Result after reduce: 2540160.0\n"
          ]
        }
      ],
      "source": [
        "# Answer question 3 here\n",
        "#Name - Bhavya Bhagchandani\n",
        "#Student# - 31715618\n",
        "import functools\n",
        "\n",
        "# create dataset that contains number from 1 to 15, name the data list as \"data\"\n",
        "data = (1,2,3,4,5,6,7,8,9,10,11,12,13,14,15);\n",
        "print(data)\n",
        "\n",
        "# complete the functions below\n",
        "\n",
        "# Map function\n",
        "# if even: divide by 2, if odd: multiply by 4\n",
        "def modify(x):\n",
        "    if (x % 2 == 0):\n",
        "      return x / 2\n",
        "    else:\n",
        "      return x * 4\n",
        "\n",
        "# Filter function\n",
        "# keep the value between 3 and 30 inclusive\n",
        "def myfilter(x):\n",
        "    if (x >= 3 and x <= 30):\n",
        "      return True\n",
        "    return False\n",
        "\n",
        "\n",
        "# Reduce function\n",
        "# multiply 2 values if first number is greater than the second, add them if otherwise\n",
        "def condsum(x, y):\n",
        "    if (x>y):\n",
        "      return x*y\n",
        "    else:\n",
        "      return x+y\n",
        "\n",
        "\n",
        "result = list(map(modify, data))\n",
        "print(\"Result after map:\",result)\n",
        "\n",
        "result = list(filter(myfilter, result))\n",
        "print(\"Result after filter:\",result)\n",
        "\n",
        "result = functools.reduce(condsum, result)\n",
        "print(\"Result after reduce:\",result)"
      ]
    },
    {
      "cell_type": "markdown",
      "metadata": {
        "id": "1prRIsbDS8L1"
      },
      "source": [
        "**Question 4 - Map-Reduce (3 marks)**\n",
        "\n",
        "Create a Python program that uses Map-Reduce to analyze a data set. ***You must use map, filter, and reduce functions***. Details:\n",
        " * Use the dataset in the code block below.\n",
        " * Apply a map function to calculate total sales per product(1 mark)\n",
        " * Apply a filter function that filters out products with total sales below $500. Print the result after the filter function is applied(1 mark)\n",
        " * Apply a reduce function that sums total sales across all products. Print the result after reduce function is applied(1 mark)\n",
        "\n",
        "***Sample Output***\n",
        "```\n",
        "Mapped Sales (Total sales per product):\n",
        "('Product A', 600)\n",
        "('Product B', 600)\n",
        "('Product C', 300)\n",
        "('Product D', 750)\n",
        "('Product E', 400)\n",
        "\n",
        "Filtered Sales (Products with total sales >= $500):\n",
        "('Product A', 600)\n",
        "('Product B', 600)\n",
        "('Product D', 750)\n",
        "\n",
        "Total sales across all qualifying products: $1950\n",
        "```\n",
        "\n",
        "**Answer Question 4 in the following code block.**"
      ]
    },
    {
      "cell_type": "code",
      "execution_count": 94,
      "metadata": {
        "id": "0T2J3zg6S8L1",
        "outputId": "fb8f6f82-c2bf-41ab-c4ae-b83b6cf6b544",
        "colab": {
          "base_uri": "https://localhost:8080/"
        }
      },
      "outputs": [
        {
          "output_type": "stream",
          "name": "stdout",
          "text": [
            "Result after map: [('Product A', 600), ('Product B', 600), ('Product C', 300), ('Product D', 750), ('Product E', 400)]\n",
            "Result after filter: [('Product A', 600), ('Product B', 600), ('Product D', 750)]\n",
            "Result after reduce: 1950\n"
          ]
        }
      ],
      "source": [
        "from functools import reduce\n",
        "\n",
        "# Sample dataset: a list of tuples (product_name, price, quantity_sold)\n",
        "sales_data = [\n",
        "    ('Product A', 120, 5),\n",
        "    ('Product B', 200, 3),\n",
        "    ('Product C', 150, 2),\n",
        "    ('Product D', 50, 15),\n",
        "    ('Product E', 400, 1),\n",
        "]\n",
        "\n",
        "# Step 1: Map - Define a function to calculate total sales per product\n",
        "def modify(x):\n",
        "  return (x[0], x[1]*x[2])\n",
        "\n",
        "# Step 2: Filter - Define a function to filter out products with total sales below $500\n",
        "def myfilter(x):\n",
        "    if (x[1]>=500):\n",
        "      return True\n",
        "    return False\n",
        "\n",
        "# Step 3: Reduce - Define a function to sum total sales across all products\n",
        "def condsum(x, y):\n",
        "  return x + y\n",
        "\n",
        "result = list(map(modify, sales_data))\n",
        "print(\"Result after map:\",result)\n",
        "\n",
        "result = list(filter(myfilter, result))\n",
        "print(\"Result after filter:\",result)\n",
        "\n",
        "nums = []\n",
        "for i in result:\n",
        "  nums.append(i[1])\n",
        "\n",
        "result = functools.reduce(condsum, nums)\n",
        "print(\"Result after reduce:\",result)\n"
      ]
    },
    {
      "cell_type": "markdown",
      "metadata": {
        "id": "ygtQKUn5dC73"
      },
      "source": [
        "**Submission**\n",
        "\n",
        "Submit your .ipynb (colab Python notebook) via Cavnas.  "
      ]
    }
  ],
  "metadata": {
    "colab": {
      "provenance": []
    },
    "kernelspec": {
      "display_name": "Python 3",
      "language": "python",
      "name": "python3"
    },
    "language_info": {
      "codemirror_mode": {
        "name": "ipython",
        "version": 3
      },
      "file_extension": ".py",
      "mimetype": "text/x-python",
      "name": "python",
      "nbconvert_exporter": "python",
      "pygments_lexer": "ipython3",
      "version": "3.10.2"
    }
  },
  "nbformat": 4,
  "nbformat_minor": 0
}